{
  "cells": [
    {
      "cell_type": "markdown",
      "metadata": {
        "id": "view-in-github",
        "colab_type": "text"
      },
      "source": [
        "<a href=\"https://colab.research.google.com/github/uday-uppal/Heart-Disease-Prediction-Project/blob/main/Heart_Attack_Prediction_System.ipynb\" target=\"_parent\"><img src=\"https://colab.research.google.com/assets/colab-badge.svg\" alt=\"Open In Colab\"/></a>"
      ]
    },
       {
      "cell_type": "code",
      "execution_count": null,
      "id": "389b52c6",
      "metadata": {
        "id": "389b52c6"
      },
      "outputs": [],
      "source": [
        "import pandas as pd\n",
        "import numpy as np\n",
        "import matplotlib.pyplot as plt\n",
        "import seaborn as sns \n",
        "from sklearn.model_selection import train_test_split\n",
        "from sklearn.preprocessing import StandardScaler\n",
        "from sklearn.metrics import confusion_matrix, classification_report\n",
        "from sklearn.metrics import ConfusionMatrixDisplay\n",
        "from scipy.stats import mode"
      ]
    },
    {
      "cell_type": "markdown",
      "id": "181d81af",
      "metadata": {
        "id": "181d81af"
      },
      "source": [
        "# Extracting the Data"
      ]
    },
    {
      "cell_type": "code",
      "execution_count": null,
      "id": "83bea429",
      "metadata": {
        "id": "83bea429"
      },
      "outputs": [],
      "source": [
        "df = pd.read_csv('heart.csv')"
      ]
    },
    {
      "cell_type": "markdown",
      "id": "93a01580",
      "metadata": {
        "id": "93a01580"
      },
      "source": [
        "# Analysis"
      ]
    },
    {
      "cell_type": "code",
      "execution_count": null,
      "id": "b1ccf130",
      "metadata": {
        "id": "b1ccf130",
        "outputId": "e0292c8c-dd83-4660-f5a6-83de8e79d240",
        "colab": {
          "base_uri": "https://localhost:8080/"
        }
      },
      "outputs": [
        {
          "output_type": "execute_result",
          "data": {
            "text/plain": [
              "(303, 14)"
            ]
          },
          "metadata": {},
          "execution_count": 5
        }
      ],
      "source": [
        "df.shape"
      ]
    },
    {
      "cell_type": "code",
      "source": [
        "# print(df)\n",
        "df.head(n = 10)"
      ],
      "metadata": {
        "colab": {
          "base_uri": "https://localhost:8080/",
          "height": 363
        },
        "id": "FJ2sXrMCO-YJ",
        "outputId": "3242ca1c-5395-441c-c08d-09e5295cb0ca"
      },
      "id": "FJ2sXrMCO-YJ",
      "execution_count": null,
      "outputs": [
        {
          "output_type": "execute_result",
          "data": {
            "text/plain": [
              "   age  sex  cp  trtbps  chol  fbs  restecg  thalachh  exng  oldpeak  slp  \\\n",
              "0   63    1   3     145   233    1        0       150     0      2.3    0   \n",
              "1   37    1   2     130   250    0        1       187     0      3.5    0   \n",
              "2   41    0   1     130   204    0        0       172     0      1.4    2   \n",
              "3   56    1   1     120   236    0        1       178     0      0.8    2   \n",
              "4   57    0   0     120   354    0        1       163     1      0.6    2   \n",
              "5   57    1   0     140   192    0        1       148     0      0.4    1   \n",
              "6   56    0   1     140   294    0        0       153     0      1.3    1   \n",
              "7   44    1   1     120   263    0        1       173     0      0.0    2   \n",
              "8   52    1   2     172   199    1        1       162     0      0.5    2   \n",
              "9   57    1   2     150   168    0        1       174     0      1.6    2   \n",
              "\n",
              "   caa  thall  output  \n",
              "0    0      1       1  \n",
              "1    0      2       1  \n",
              "2    0      2       1  \n",
              "3    0      2       1  \n",
              "4    0      2       1  \n",
              "5    0      1       1  \n",
              "6    0      2       1  \n",
              "7    0      3       1  \n",
              "8    0      3       1  \n",
              "9    0      2       1  "
            ],
            "text/html": [
              "\n",
              "  <div id=\"df-41a2699b-82d6-4728-8a45-7d9f7e085a6e\">\n",
              "    <div class=\"colab-df-container\">\n",
              "      <div>\n",
              "<style scoped>\n",
              "    .dataframe tbody tr th:only-of-type {\n",
              "        vertical-align: middle;\n",
              "    }\n",
              "\n",
              "    .dataframe tbody tr th {\n",
              "        vertical-align: top;\n",
              "    }\n",
              "\n",
              "    .dataframe thead th {\n",
              "        text-align: right;\n",
              "    }\n",
              "</style>\n",
              "<table border=\"1\" class=\"dataframe\">\n",
              "  <thead>\n",
              "    <tr style=\"text-align: right;\">\n",
              "      <th></th>\n",
              "      <th>age</th>\n",
              "      <th>sex</th>\n",
              "      <th>cp</th>\n",
              "      <th>trtbps</th>\n",
              "      <th>chol</th>\n",
              "      <th>fbs</th>\n",
              "      <th>restecg</th>\n",
              "      <th>thalachh</th>\n",
              "      <th>exng</th>\n",
              "      <th>oldpeak</th>\n",
              "      <th>slp</th>\n",
              "      <th>caa</th>\n",
              "      <th>thall</th>\n",
              "      <th>output</th>\n",
              "    </tr>\n",
              "  </thead>\n",
              "  <tbody>\n",
              "    <tr>\n",
              "      <th>0</th>\n",
              "      <td>63</td>\n",
              "      <td>1</td>\n",
              "      <td>3</td>\n",
              "      <td>145</td>\n",
              "      <td>233</td>\n",
              "      <td>1</td>\n",
              "      <td>0</td>\n",
              "      <td>150</td>\n",
              "      <td>0</td>\n",
              "      <td>2.3</td>\n",
              "      <td>0</td>\n",
              "      <td>0</td>\n",
              "      <td>1</td>\n",
              "      <td>1</td>\n",
              "    </tr>\n",
              "    <tr>\n",
              "      <th>1</th>\n",
              "      <td>37</td>\n",
              "      <td>1</td>\n",
              "      <td>2</td>\n",
              "      <td>130</td>\n",
              "      <td>250</td>\n",
              "      <td>0</td>\n",
              "      <td>1</td>\n",
              "      <td>187</td>\n",
              "      <td>0</td>\n",
              "      <td>3.5</td>\n",
              "      <td>0</td>\n",
              "      <td>0</td>\n",
              "      <td>2</td>\n",
              "      <td>1</td>\n",
              "    </tr>\n",
              "    <tr>\n",
              "      <th>2</th>\n",
              "      <td>41</td>\n",
              "      <td>0</td>\n",
              "      <td>1</td>\n",
              "      <td>130</td>\n",
              "      <td>204</td>\n",
              "      <td>0</td>\n",
              "      <td>0</td>\n",
              "      <td>172</td>\n",
              "      <td>0</td>\n",
              "      <td>1.4</td>\n",
              "      <td>2</td>\n",
              "      <td>0</td>\n",
              "      <td>2</td>\n",
              "      <td>1</td>\n",
              "    </tr>\n",
              "    <tr>\n",
              "      <th>3</th>\n",
              "      <td>56</td>\n",
              "      <td>1</td>\n",
              "      <td>1</td>\n",
              "      <td>120</td>\n",
              "      <td>236</td>\n",
              "      <td>0</td>\n",
              "      <td>1</td>\n",
              "      <td>178</td>\n",
              "      <td>0</td>\n",
              "      <td>0.8</td>\n",
              "      <td>2</td>\n",
              "      <td>0</td>\n",
              "      <td>2</td>\n",
              "      <td>1</td>\n",
              "    </tr>\n",
              "    <tr>\n",
              "      <th>4</th>\n",
              "      <td>57</td>\n",
              "      <td>0</td>\n",
              "      <td>0</td>\n",
              "      <td>120</td>\n",
              "      <td>354</td>\n",
              "      <td>0</td>\n",
              "      <td>1</td>\n",
              "      <td>163</td>\n",
              "      <td>1</td>\n",
              "      <td>0.6</td>\n",
              "      <td>2</td>\n",
              "      <td>0</td>\n",
              "      <td>2</td>\n",
              "      <td>1</td>\n",
              "    </tr>\n",
              "    <tr>\n",
              "      <th>5</th>\n",
              "      <td>57</td>\n",
              "      <td>1</td>\n",
              "      <td>0</td>\n",
              "      <td>140</td>\n",
              "      <td>192</td>\n",
              "      <td>0</td>\n",
              "      <td>1</td>\n",
              "      <td>148</td>\n",
              "      <td>0</td>\n",
              "      <td>0.4</td>\n",
              "      <td>1</td>\n",
              "      <td>0</td>\n",
              "      <td>1</td>\n",
              "      <td>1</td>\n",
              "    </tr>\n",
              "    <tr>\n",
              "      <th>6</th>\n",
              "      <td>56</td>\n",
              "      <td>0</td>\n",
              "      <td>1</td>\n",
              "      <td>140</td>\n",
              "      <td>294</td>\n",
              "      <td>0</td>\n",
              "      <td>0</td>\n",
              "      <td>153</td>\n",
              "      <td>0</td>\n",
              "      <td>1.3</td>\n",
              "      <td>1</td>\n",
              "      <td>0</td>\n",
              "      <td>2</td>\n",
              "      <td>1</td>\n",
              "    </tr>\n",
              "    <tr>\n",
              "      <th>7</th>\n",
              "      <td>44</td>\n",
              "      <td>1</td>\n",
              "      <td>1</td>\n",
              "      <td>120</td>\n",
              "      <td>263</td>\n",
              "      <td>0</td>\n",
              "      <td>1</td>\n",
              "      <td>173</td>\n",
              "      <td>0</td>\n",
              "      <td>0.0</td>\n",
              "      <td>2</td>\n",
              "      <td>0</td>\n",
              "      <td>3</td>\n",
              "      <td>1</td>\n",
              "    </tr>\n",
              "    <tr>\n",
              "      <th>8</th>\n",
              "      <td>52</td>\n",
              "      <td>1</td>\n",
              "      <td>2</td>\n",
              "      <td>172</td>\n",
              "      <td>199</td>\n",
              "      <td>1</td>\n",
              "      <td>1</td>\n",
              "      <td>162</td>\n",
              "      <td>0</td>\n",
              "      <td>0.5</td>\n",
              "      <td>2</td>\n",
              "      <td>0</td>\n",
              "      <td>3</td>\n",
              "      <td>1</td>\n",
              "    </tr>\n",
              "    <tr>\n",
              "      <th>9</th>\n",
              "      <td>57</td>\n",
              "      <td>1</td>\n",
              "      <td>2</td>\n",
              "      <td>150</td>\n",
              "      <td>168</td>\n",
              "      <td>0</td>\n",
              "      <td>1</td>\n",
              "      <td>174</td>\n",
              "      <td>0</td>\n",
              "      <td>1.6</td>\n",
              "      <td>2</td>\n",
              "      <td>0</td>\n",
              "      <td>2</td>\n",
              "      <td>1</td>\n",
              "    </tr>\n",
              "  </tbody>\n",
              "</table>\n",
              "</div>\n",
              "      <button class=\"colab-df-convert\" onclick=\"convertToInteractive('df-41a2699b-82d6-4728-8a45-7d9f7e085a6e')\"\n",
              "              title=\"Convert this dataframe to an interactive table.\"\n",
              "              style=\"display:none;\">\n",
              "        \n",
              "  <svg xmlns=\"http://www.w3.org/2000/svg\" height=\"24px\"viewBox=\"0 0 24 24\"\n",
              "       width=\"24px\">\n",
              "    <path d=\"M0 0h24v24H0V0z\" fill=\"none\"/>\n",
              "    <path d=\"M18.56 5.44l.94 2.06.94-2.06 2.06-.94-2.06-.94-.94-2.06-.94 2.06-2.06.94zm-11 1L8.5 8.5l.94-2.06 2.06-.94-2.06-.94L8.5 2.5l-.94 2.06-2.06.94zm10 10l.94 2.06.94-2.06 2.06-.94-2.06-.94-.94-2.06-.94 2.06-2.06.94z\"/><path d=\"M17.41 7.96l-1.37-1.37c-.4-.4-.92-.59-1.43-.59-.52 0-1.04.2-1.43.59L10.3 9.45l-7.72 7.72c-.78.78-.78 2.05 0 2.83L4 21.41c.39.39.9.59 1.41.59.51 0 1.02-.2 1.41-.59l7.78-7.78 2.81-2.81c.8-.78.8-2.07 0-2.86zM5.41 20L4 18.59l7.72-7.72 1.47 1.35L5.41 20z\"/>\n",
              "  </svg>\n",
              "      </button>\n",
              "      \n",
              "  <style>\n",
              "    .colab-df-container {\n",
              "      display:flex;\n",
              "      flex-wrap:wrap;\n",
              "      gap: 12px;\n",
              "    }\n",
              "\n",
              "    .colab-df-convert {\n",
              "      background-color: #E8F0FE;\n",
              "      border: none;\n",
              "      border-radius: 50%;\n",
              "      cursor: pointer;\n",
              "      display: none;\n",
              "      fill: #1967D2;\n",
              "      height: 32px;\n",
              "      padding: 0 0 0 0;\n",
              "      width: 32px;\n",
              "    }\n",
              "\n",
              "    .colab-df-convert:hover {\n",
              "      background-color: #E2EBFA;\n",
              "      box-shadow: 0px 1px 2px rgba(60, 64, 67, 0.3), 0px 1px 3px 1px rgba(60, 64, 67, 0.15);\n",
              "      fill: #174EA6;\n",
              "    }\n",
              "\n",
              "    [theme=dark] .colab-df-convert {\n",
              "      background-color: #3B4455;\n",
              "      fill: #D2E3FC;\n",
              "    }\n",
              "\n",
              "    [theme=dark] .colab-df-convert:hover {\n",
              "      background-color: #434B5C;\n",
              "      box-shadow: 0px 1px 3px 1px rgba(0, 0, 0, 0.15);\n",
              "      filter: drop-shadow(0px 1px 2px rgba(0, 0, 0, 0.3));\n",
              "      fill: #FFFFFF;\n",
              "    }\n",
              "  </style>\n",
              "\n",
              "      <script>\n",
              "        const buttonEl =\n",
              "          document.querySelector('#df-41a2699b-82d6-4728-8a45-7d9f7e085a6e button.colab-df-convert');\n",
              "        buttonEl.style.display =\n",
              "          google.colab.kernel.accessAllowed ? 'block' : 'none';\n",
              "\n",
              "        async function convertToInteractive(key) {\n",
              "          const element = document.querySelector('#df-41a2699b-82d6-4728-8a45-7d9f7e085a6e');\n",
              "          const dataTable =\n",
              "            await google.colab.kernel.invokeFunction('convertToInteractive',\n",
              "                                                     [key], {});\n",
              "          if (!dataTable) return;\n",
              "\n",
              "          const docLinkHtml = 'Like what you see? Visit the ' +\n",
              "            '<a target=\"_blank\" href=https://colab.research.google.com/notebooks/data_table.ipynb>data table notebook</a>'\n",
              "            + ' to learn more about interactive tables.';\n",
              "          element.innerHTML = '';\n",
              "          dataTable['output_type'] = 'display_data';\n",
              "          await google.colab.output.renderOutput(dataTable, element);\n",
              "          const docLink = document.createElement('div');\n",
              "          docLink.innerHTML = docLinkHtml;\n",
              "          element.appendChild(docLink);\n",
              "        }\n",
              "      </script>\n",
              "    </div>\n",
              "  </div>\n",
              "  "
            ]
          },
          "metadata": {},
          "execution_count": 6
        }
      ]
    },
    {
      "cell_type": "markdown",
      "id": "3d1020ad",
      "metadata": {
        "id": "3d1020ad"
      },
      "source": [
        "### We have 303 rows and 14 coumns"
      ]
    },
    {
      "cell_type": "code",
      "execution_count": null,
      "id": "eb2e1035",
      "metadata": {
        "id": "eb2e1035",
        "outputId": "df9cbbf0-13d1-4086-b1fe-d6512d7371dd",
        "colab": {
          "base_uri": "https://localhost:8080/",
          "height": 364
        }
      },
      "outputs": [
        {
          "output_type": "execute_result",
          "data": {
            "text/plain": [
              "              age         sex          cp      trtbps        chol         fbs  \\\n",
              "count  303.000000  303.000000  303.000000  303.000000  303.000000  303.000000   \n",
              "mean    54.366337    0.683168    0.966997  131.623762  246.264026    0.148515   \n",
              "std      9.082101    0.466011    1.032052   17.538143   51.830751    0.356198   \n",
              "min     29.000000    0.000000    0.000000   94.000000  126.000000    0.000000   \n",
              "25%     47.500000    0.000000    0.000000  120.000000  211.000000    0.000000   \n",
              "50%     55.000000    1.000000    1.000000  130.000000  240.000000    0.000000   \n",
              "75%     61.000000    1.000000    2.000000  140.000000  274.500000    0.000000   \n",
              "max     77.000000    1.000000    3.000000  200.000000  564.000000    1.000000   \n",
              "\n",
              "          restecg    thalachh        exng     oldpeak         slp         caa  \\\n",
              "count  303.000000  303.000000  303.000000  303.000000  303.000000  303.000000   \n",
              "mean     0.528053  149.646865    0.326733    1.039604    1.399340    0.729373   \n",
              "std      0.525860   22.905161    0.469794    1.161075    0.616226    1.022606   \n",
              "min      0.000000   71.000000    0.000000    0.000000    0.000000    0.000000   \n",
              "25%      0.000000  133.500000    0.000000    0.000000    1.000000    0.000000   \n",
              "50%      1.000000  153.000000    0.000000    0.800000    1.000000    0.000000   \n",
              "75%      1.000000  166.000000    1.000000    1.600000    2.000000    1.000000   \n",
              "max      2.000000  202.000000    1.000000    6.200000    2.000000    4.000000   \n",
              "\n",
              "            thall      output  \n",
              "count  303.000000  303.000000  \n",
              "mean     2.313531    0.544554  \n",
              "std      0.612277    0.498835  \n",
              "min      0.000000    0.000000  \n",
              "25%      2.000000    0.000000  \n",
              "50%      2.000000    1.000000  \n",
              "75%      3.000000    1.000000  \n",
              "max      3.000000    1.000000  "
            ],
            "text/html": [
              "\n",
              "  <div id=\"df-0645578e-f629-45bd-a478-a38023d2fb83\">\n",
              "    <div class=\"colab-df-container\">\n",
              "      <div>\n",
              "<style scoped>\n",
              "    .dataframe tbody tr th:only-of-type {\n",
              "        vertical-align: middle;\n",
              "    }\n",
              "\n",
              "    .dataframe tbody tr th {\n",
              "        vertical-align: top;\n",
              "    }\n",
              "\n",
              "    .dataframe thead th {\n",
              "        text-align: right;\n",
              "    }\n",
              "</style>\n",
              "<table border=\"1\" class=\"dataframe\">\n",
              "  <thead>\n",
              "    <tr style=\"text-align: right;\">\n",
              "      <th></th>\n",
              "      <th>age</th>\n",
              "      <th>sex</th>\n",
              "      <th>cp</th>\n",
              "      <th>trtbps</th>\n",
              "      <th>chol</th>\n",
              "      <th>fbs</th>\n",
              "      <th>restecg</th>\n",
              "      <th>thalachh</th>\n",
              "      <th>exng</th>\n",
              "      <th>oldpeak</th>\n",
              "      <th>slp</th>\n",
              "      <th>caa</th>\n",
              "      <th>thall</th>\n",
              "      <th>output</th>\n",
              "    </tr>\n",
              "  </thead>\n",
              "  <tbody>\n",
              "    <tr>\n",
              "      <th>count</th>\n",
              "      <td>303.000000</td>\n",
              "      <td>303.000000</td>\n",
              "      <td>303.000000</td>\n",
              "      <td>303.000000</td>\n",
              "      <td>303.000000</td>\n",
              "      <td>303.000000</td>\n",
              "      <td>303.000000</td>\n",
              "      <td>303.000000</td>\n",
              "      <td>303.000000</td>\n",
              "      <td>303.000000</td>\n",
              "      <td>303.000000</td>\n",
              "      <td>303.000000</td>\n",
              "      <td>303.000000</td>\n",
              "      <td>303.000000</td>\n",
              "    </tr>\n",
              "    <tr>\n",
              "      <th>mean</th>\n",
              "      <td>54.366337</td>\n",
              "      <td>0.683168</td>\n",
              "      <td>0.966997</td>\n",
              "      <td>131.623762</td>\n",
              "      <td>246.264026</td>\n",
              "      <td>0.148515</td>\n",
              "      <td>0.528053</td>\n",
              "      <td>149.646865</td>\n",
              "      <td>0.326733</td>\n",
              "      <td>1.039604</td>\n",
              "      <td>1.399340</td>\n",
              "      <td>0.729373</td>\n",
              "      <td>2.313531</td>\n",
              "      <td>0.544554</td>\n",
              "    </tr>\n",
              "    <tr>\n",
              "      <th>std</th>\n",
              "      <td>9.082101</td>\n",
              "      <td>0.466011</td>\n",
              "      <td>1.032052</td>\n",
              "      <td>17.538143</td>\n",
              "      <td>51.830751</td>\n",
              "      <td>0.356198</td>\n",
              "      <td>0.525860</td>\n",
              "      <td>22.905161</td>\n",
              "      <td>0.469794</td>\n",
              "      <td>1.161075</td>\n",
              "      <td>0.616226</td>\n",
              "      <td>1.022606</td>\n",
              "      <td>0.612277</td>\n",
              "      <td>0.498835</td>\n",
              "    </tr>\n",
              "    <tr>\n",
              "      <th>min</th>\n",
              "      <td>29.000000</td>\n",
              "      <td>0.000000</td>\n",
              "      <td>0.000000</td>\n",
              "      <td>94.000000</td>\n",
              "      <td>126.000000</td>\n",
              "      <td>0.000000</td>\n",
              "      <td>0.000000</td>\n",
              "      <td>71.000000</td>\n",
              "      <td>0.000000</td>\n",
              "      <td>0.000000</td>\n",
              "      <td>0.000000</td>\n",
              "      <td>0.000000</td>\n",
              "      <td>0.000000</td>\n",
              "      <td>0.000000</td>\n",
              "    </tr>\n",
              "    <tr>\n",
              "      <th>25%</th>\n",
              "      <td>47.500000</td>\n",
              "      <td>0.000000</td>\n",
              "      <td>0.000000</td>\n",
              "      <td>120.000000</td>\n",
              "      <td>211.000000</td>\n",
              "      <td>0.000000</td>\n",
              "      <td>0.000000</td>\n",
              "      <td>133.500000</td>\n",
              "      <td>0.000000</td>\n",
              "      <td>0.000000</td>\n",
              "      <td>1.000000</td>\n",
              "      <td>0.000000</td>\n",
              "      <td>2.000000</td>\n",
              "      <td>0.000000</td>\n",
              "    </tr>\n",
              "    <tr>\n",
              "      <th>50%</th>\n",
              "      <td>55.000000</td>\n",
              "      <td>1.000000</td>\n",
              "      <td>1.000000</td>\n",
              "      <td>130.000000</td>\n",
              "      <td>240.000000</td>\n",
              "      <td>0.000000</td>\n",
              "      <td>1.000000</td>\n",
              "      <td>153.000000</td>\n",
              "      <td>0.000000</td>\n",
              "      <td>0.800000</td>\n",
              "      <td>1.000000</td>\n",
              "      <td>0.000000</td>\n",
              "      <td>2.000000</td>\n",
              "      <td>1.000000</td>\n",
              "    </tr>\n",
              "    <tr>\n",
              "      <th>75%</th>\n",
              "      <td>61.000000</td>\n",
              "      <td>1.000000</td>\n",
              "      <td>2.000000</td>\n",
              "      <td>140.000000</td>\n",
              "      <td>274.500000</td>\n",
              "      <td>0.000000</td>\n",
              "      <td>1.000000</td>\n",
              "      <td>166.000000</td>\n",
              "      <td>1.000000</td>\n",
              "      <td>1.600000</td>\n",
              "      <td>2.000000</td>\n",
              "      <td>1.000000</td>\n",
              "      <td>3.000000</td>\n",
              "      <td>1.000000</td>\n",
              "    </tr>\n",
              "    <tr>\n",
              "      <th>max</th>\n",
              "      <td>77.000000</td>\n",
              "      <td>1.000000</td>\n",
              "      <td>3.000000</td>\n",
              "      <td>200.000000</td>\n",
              "      <td>564.000000</td>\n",
              "      <td>1.000000</td>\n",
              "      <td>2.000000</td>\n",
              "      <td>202.000000</td>\n",
              "      <td>1.000000</td>\n",
              "      <td>6.200000</td>\n",
              "      <td>2.000000</td>\n",
              "      <td>4.000000</td>\n",
              "      <td>3.000000</td>\n",
              "      <td>1.000000</td>\n",
              "    </tr>\n",
              "  </tbody>\n",
              "</table>\n",
              "</div>\n",
              "      <button class=\"colab-df-convert\" onclick=\"convertToInteractive('df-0645578e-f629-45bd-a478-a38023d2fb83')\"\n",
              "              title=\"Convert this dataframe to an interactive table.\"\n",
              "              style=\"display:none;\">\n",
              "        \n",
              "  <svg xmlns=\"http://www.w3.org/2000/svg\" height=\"24px\"viewBox=\"0 0 24 24\"\n",
              "       width=\"24px\">\n",
              "    <path d=\"M0 0h24v24H0V0z\" fill=\"none\"/>\n",
              "    <path d=\"M18.56 5.44l.94 2.06.94-2.06 2.06-.94-2.06-.94-.94-2.06-.94 2.06-2.06.94zm-11 1L8.5 8.5l.94-2.06 2.06-.94-2.06-.94L8.5 2.5l-.94 2.06-2.06.94zm10 10l.94 2.06.94-2.06 2.06-.94-2.06-.94-.94-2.06-.94 2.06-2.06.94z\"/><path d=\"M17.41 7.96l-1.37-1.37c-.4-.4-.92-.59-1.43-.59-.52 0-1.04.2-1.43.59L10.3 9.45l-7.72 7.72c-.78.78-.78 2.05 0 2.83L4 21.41c.39.39.9.59 1.41.59.51 0 1.02-.2 1.41-.59l7.78-7.78 2.81-2.81c.8-.78.8-2.07 0-2.86zM5.41 20L4 18.59l7.72-7.72 1.47 1.35L5.41 20z\"/>\n",
              "  </svg>\n",
              "      </button>\n",
              "      \n",
              "  <style>\n",
              "    .colab-df-container {\n",
              "      display:flex;\n",
              "      flex-wrap:wrap;\n",
              "      gap: 12px;\n",
              "    }\n",
              "\n",
              "    .colab-df-convert {\n",
              "      background-color: #E8F0FE;\n",
              "      border: none;\n",
              "      border-radius: 50%;\n",
              "      cursor: pointer;\n",
              "      display: none;\n",
              "      fill: #1967D2;\n",
              "      height: 32px;\n",
              "      padding: 0 0 0 0;\n",
              "      width: 32px;\n",
              "    }\n",
              "\n",
              "    .colab-df-convert:hover {\n",
              "      background-color: #E2EBFA;\n",
              "      box-shadow: 0px 1px 2px rgba(60, 64, 67, 0.3), 0px 1px 3px 1px rgba(60, 64, 67, 0.15);\n",
              "      fill: #174EA6;\n",
              "    }\n",
              "\n",
              "    [theme=dark] .colab-df-convert {\n",
              "      background-color: #3B4455;\n",
              "      fill: #D2E3FC;\n",
              "    }\n",
              "\n",
              "    [theme=dark] .colab-df-convert:hover {\n",
              "      background-color: #434B5C;\n",
              "      box-shadow: 0px 1px 3px 1px rgba(0, 0, 0, 0.15);\n",
              "      filter: drop-shadow(0px 1px 2px rgba(0, 0, 0, 0.3));\n",
              "      fill: #FFFFFF;\n",
              "    }\n",
              "  </style>\n",
              "\n",
              "      <script>\n",
              "        const buttonEl =\n",
              "          document.querySelector('#df-0645578e-f629-45bd-a478-a38023d2fb83 button.colab-df-convert');\n",
              "        buttonEl.style.display =\n",
              "          google.colab.kernel.accessAllowed ? 'block' : 'none';\n",
              "\n",
              "        async function convertToInteractive(key) {\n",
              "          const element = document.querySelector('#df-0645578e-f629-45bd-a478-a38023d2fb83');\n",
              "          const dataTable =\n",
              "            await google.colab.kernel.invokeFunction('convertToInteractive',\n",
              "                                                     [key], {});\n",
              "          if (!dataTable) return;\n",
              "\n",
              "          const docLinkHtml = 'Like what you see? Visit the ' +\n",
              "            '<a target=\"_blank\" href=https://colab.research.google.com/notebooks/data_table.ipynb>data table notebook</a>'\n",
              "            + ' to learn more about interactive tables.';\n",
              "          element.innerHTML = '';\n",
              "          dataTable['output_type'] = 'display_data';\n",
              "          await google.colab.output.renderOutput(dataTable, element);\n",
              "          const docLink = document.createElement('div');\n",
              "          docLink.innerHTML = docLinkHtml;\n",
              "          element.appendChild(docLink);\n",
              "        }\n",
              "      </script>\n",
              "    </div>\n",
              "  </div>\n",
              "  "
            ]
          },
          "metadata": {},
          "execution_count": 7
        }
      ],
      "source": [
        "df.describe()"
      ]
    },
    {
      "cell_type": "markdown",
      "source": [
        "<H1> Medical Definitions </H1>\n",
        "\n",
        "**Age :** Age of the patient\n",
        "\n",
        "**Sex :** Sex of the patient\n",
        "\n",
        "**cp :** Chest Pain type chest pain type <BR>\n",
        "Value 1: typical angina <BR>\n",
        "Value 2: atypical angina <BR>\n",
        "Value 3: non-anginal pain <BR>\n",
        "Value 4: asymptomatic\n",
        "\n",
        "**trtbps :** resting blood pressure (in mm Hg)\n",
        "\n",
        "**chol :** cholestoral in mg/dl fetched via BMI sensor\n",
        "\n",
        "**fbs :** (fasting blood sugar > 120 mg/dl) (1 = true; 0 = false)\n",
        "\n",
        "**thalachh :** maximum heart rate achieved\n",
        "\n",
        "**rest_ecg :** resting electrocardiographic results <BR>\n",
        "Value 0: normal <BR>\n",
        "Value 1: having ST-T wave abnormality (T wave inversions and/or ST elevation or depression of > 0.05 mV) <BR>\n",
        "Value 2: showing probable or definite left ventricular hypertrophy by Estes' criteria\n",
        "\n",
        "**exng :** exercise induced angina (1 = yes; 0 = no)\n",
        "\n",
        "**oldpeak :** ST depression induced by exercise relative to rest\n",
        "\n",
        "**slp :** the slope of the peak exercise ST segment <BR>\n",
        "0 = unsloping <BR>\n",
        "1 = flat <BR>\n",
        "2 = downsloping\n",
        "\n",
        "**caa :** number of major vessels (0-3)\n",
        "\n",
        "**thall :** thalassemia <BR>\n",
        "0 = null <BR>\n",
        "1 = fixed defect <BR>\n",
        "2 = normal <BR>\n",
        "3 = reversable defect\n",
        "\n",
        "**output :** <BR>\n",
        "0= less chance of heart attack <BR> \n",
        "1= more chance of heart attack"
      ],
      "metadata": {
        "id": "tzcN2Xgvr1CY"
      },
      "id": "tzcN2Xgvr1CY"
    },
    {
      "cell_type": "code",
      "execution_count": null,
      "id": "76ab319b",
      "metadata": {
        "scrolled": true,
        "id": "76ab319b",
        "outputId": "a704a5f1-d2c6-4773-a1dd-43f5ce3929b0",
        "colab": {
          "base_uri": "https://localhost:8080/"
        }
      },
      "outputs": [
        {
          "output_type": "execute_result",
          "data": {
            "text/plain": [
              "age          41\n",
              "sex           2\n",
              "cp            4\n",
              "trtbps       49\n",
              "chol        152\n",
              "fbs           2\n",
              "restecg       3\n",
              "thalachh     91\n",
              "exng          2\n",
              "oldpeak      40\n",
              "slp           3\n",
              "caa           5\n",
              "thall         4\n",
              "output        2\n",
              "dtype: int64"
            ]
          },
          "metadata": {},
          "execution_count": 8
        }
      ],
      "source": [
        "df.nunique()"
      ]
    },
    {
      "cell_type": "code",
      "execution_count": null,
      "id": "b43201a1",
      "metadata": {
        "scrolled": true,
        "id": "b43201a1",
        "outputId": "ec8f1cc8-d425-46ae-ca60-247409aa7f8e",
        "colab": {
          "base_uri": "https://localhost:8080/"
        }
      },
      "outputs": [
        {
          "output_type": "execute_result",
          "data": {
            "text/plain": [
              "age         0\n",
              "sex         0\n",
              "cp          0\n",
              "trtbps      0\n",
              "chol        0\n",
              "fbs         0\n",
              "restecg     0\n",
              "thalachh    0\n",
              "exng        0\n",
              "oldpeak     0\n",
              "slp         0\n",
              "caa         0\n",
              "thall       0\n",
              "output      0\n",
              "dtype: int64"
            ]
          },
          "metadata": {},
          "execution_count": 9
        }
      ],
      "source": [
        "df.isna().sum()"
      ]
    },
    {
      "cell_type": "code",
      "execution_count": null,
      "id": "a6cf79bf",
      "metadata": {
        "id": "a6cf79bf",
        "colab": {
          "base_uri": "https://localhost:8080/",
          "height": 282
        },
        "outputId": "f722261c-2765-4fe8-cef4-7e8dd46db336"
      },
      "outputs": [
        {
          "output_type": "execute_result",
          "data": {
            "text/plain": [
              "<matplotlib.axes._subplots.AxesSubplot at 0x7f8769eefd50>"
            ]
          },
          "metadata": {},
          "execution_count": 10
        },
        {
          "output_type": "display_data",
          "data": {
            "text/plain": [
              "<Figure size 432x288 with 1 Axes>"
            ],
            "image/png": "[encoded data removed]"
          },
          "metadata": {}
        }
      ],
      "source": [
        "df.groupby('thall')[\"output\"].count().plot(kind=\"pie\", title=\"Thall : maximum heart rate achieved\")"
      ]
    },
    {
      "cell_type": "code",
      "execution_count": null,
      "id": "75e0b76c",
      "metadata": {
        "id": "75e0b76c",
        "outputId": "6e6b31bc-3302-4b26-e6b1-d1c12a0cd3ea",
        "colab": {
          "base_uri": "https://localhost:8080/"
        }
      },
      "outputs": [
        {
          "output_type": "execute_result",
          "data": {
            "text/plain": [
              "age           int64\n",
              "sex           int64\n",
              "cp            int64\n",
              "trtbps        int64\n",
              "chol          int64\n",
              "fbs           int64\n",
              "restecg       int64\n",
              "thalachh      int64\n",
              "exng          int64\n",
              "oldpeak     float64\n",
              "slp           int64\n",
              "caa           int64\n",
              "thall         int64\n",
              "output        int64\n",
              "dtype: object"
            ]
          },
          "metadata": {},
          "execution_count": 11
        }
      ],
      "source": [
        "df.dtypes"
      ]
    },
    {
      "cell_type": "markdown",
      "id": "dabfa089",
      "metadata": {
        "id": "dabfa089"
      },
      "source": [
        "### Gender of Patient"
      ]
    },
    {
      "cell_type": "markdown",
      "id": "445b6896",
      "metadata": {
        "id": "445b6896"
      },
      "source": [
        "#### MALE : 0 \n",
        "#### FEMALE : 1"
      ]
    },
    {
      "cell_type": "code",
      "execution_count": null,
      "id": "e5448b8b",
      "metadata": {
        "id": "e5448b8b",
        "outputId": "f5c44463-c977-412e-f8e9-af75aced6082",
        "colab": {
          "base_uri": "https://localhost:8080/",
          "height": 282
        }
      },
      "outputs": [
        {
          "output_type": "execute_result",
          "data": {
            "text/plain": [
              "<matplotlib.axes._subplots.AxesSubplot at 0x7f87699e7790>"
            ]
          },
          "metadata": {},
          "execution_count": 12
        },
        {
          "output_type": "display_data",
          "data": {
            "text/plain": [
              "<Figure size 432x288 with 1 Axes>"
            ],
            "image/png": "[encoded data removed]"
          },
          "metadata": {}
        }
      ],
      "source": [
        "df.groupby('sex')[\"output\"].count().plot(kind=\"pie\",title=\"Male & Female have heart attack\")"
      ]
    },
    {
      "cell_type": "code",
      "execution_count": null,
      "id": "3a6a35e3",
      "metadata": {
        "id": "3a6a35e3",
        "outputId": "b9b92f1b-ba3f-4258-d787-9868347560f7",
        "colab": {
          "base_uri": "https://localhost:8080/",
          "height": 282
        }
      },
      "outputs": [
        {
          "output_type": "execute_result",
          "data": {
            "text/plain": [
              "<matplotlib.axes._subplots.AxesSubplot at 0x7f87699b4ad0>"
            ]
          },
          "metadata": {},
          "execution_count": 13
        },
        {
          "output_type": "display_data",
          "data": {
            "text/plain": [
              "<Figure size 432x288 with 1 Axes>"
            ],
            "image/png": "[encoded data removed]"
          },
          "metadata": {}
        }
      ],
      "source": [
        "df.groupby('fbs')[\"output\"].count().plot(kind=\"pie\",title=\"fasting blood sugar\")"
      ]
    },
    {
      "cell_type": "code",
      "execution_count": null,
      "id": "761dea20",
      "metadata": {
        "id": "761dea20",
        "outputId": "aaae49ad-e6f4-4e51-9ee4-ff18079ad716",
        "colab": {
          "base_uri": "https://localhost:8080/",
          "height": 297
        }
      },
      "outputs": [
        {
          "output_type": "execute_result",
          "data": {
            "text/plain": [
              "<matplotlib.axes._subplots.AxesSubplot at 0x7f876998b690>"
            ]
          },
          "metadata": {},
          "execution_count": 14
        },
        {
          "output_type": "display_data",
          "data": {
            "text/plain": [
              "<Figure size 432x288 with 1 Axes>"
            ],
            "image/png": "[encoded data removed]"
          },
          "metadata": {
            "needs_background": "light"
          }
        }
      ],
      "source": [
        "sns.scatterplot(x=\"age\",y=\"chol\",data=df)"
      ]
    },
    {
      "cell_type": "code",
      "execution_count": null,
      "id": "1a99ebe2",
      "metadata": {
        "id": "1a99ebe2",
        "outputId": "da8c362d-758b-45f7-ef06-6897dfb3382a",
        "colab": {
          "base_uri": "https://localhost:8080/",
          "height": 575
        }
      },
      "outputs": [
        {
          "output_type": "display_data",
          "data": {
            "text/plain": [
              "<Figure size 864x648 with 2 Axes>"
            ],
            "image/png": "[encoded data removed]"
          },
          "metadata": {
            "needs_background": "light"
          }
        }
      ],
      "source": [
        "corrmat = df.corr()\n",
        "f, ax = plt.subplots(figsize=(12, 9))\n",
        "sns.heatmap(corrmat, vmax=.8, square=True, annot=True);"
      ]
    },
    {
      "cell_type": "markdown",
      "id": "1f7d6928",
      "metadata": {
        "id": "1f7d6928"
      },
      "source": [
        "# Pre-Processing"
      ]
    },
    {
      "cell_type": "code",
      "execution_count": null,
      "id": "0df11e0c",
      "metadata": {
        "id": "0df11e0c"
      },
      "outputs": [],
      "source": [
        "X = df.iloc[: , 0:-1 ]\n",
        "Y = df['output']\n",
        "\n",
        "X_train, X_test, y_train, y_test = train_test_split(X, Y, test_size = 0.25 ,random_state = 42)\n",
        "\n",
        "sc = StandardScaler()\n",
        "X_test = sc.fit_transform(X_test)\n",
        "X_train = sc.transform(X_train)"
      ]
    },
    {
      "cell_type": "markdown",
      "id": "630cec4e",
      "metadata": {
        "id": "630cec4e"
      },
      "source": [
        "# Implementing Classsifer"
      ]
    },
    {
      "cell_type": "markdown",
      "id": "1d9ab4ac",
      "metadata": {
        "id": "1d9ab4ac"
      },
      "source": [
        "## Logistic Regression"
      ]
    },
    {
      "cell_type": "code",
      "source": [
        "def F1Score(y, y_predicted):\n",
        "    tp,tn,fp,fn = 0,0,0,0\n",
        "    r=[]\n",
        "    for i in range(len(y)):\n",
        "        if (y[i] == 1 and y_predicted[i] == 1):\n",
        "            tp += 1\n",
        "        elif y[i] == 1 and y_predicted[i] == 0:\n",
        "            fn += 1\n",
        "        elif y[i] == 0 and y_predicted[i] == 1:\n",
        "            fp += 1\n",
        "        elif (y[i] == 0 and y_predicted[i] == 0):\n",
        "            tn += 1\n",
        "    precision = tp / (tp + fp)\n",
        "    recall = tp / (tp + fn)\n",
        "    f1 = 2 * precision * recall / (precision + recall)\n",
        "    return f1    \n",
        "\n",
        "class LogisticRegression:\n",
        "  def fit(self, X_train, Y_train, alpha = 0.1, n = 2000):\n",
        "    X_train = np.insert(X_train, 0, values = 1, axis = 1)\n",
        "    m, k = X_train.shape \n",
        "    self.beta = np.zeros(k)\n",
        "    for i in range(n): \n",
        "      cost_gradient = np.zeros(k) \n",
        "      z = X_train.dot(self.beta) \n",
        "      p = 1 / (1 + np.exp(-z))  \n",
        "      for j in range(k):\n",
        "        cost_gradient[j] = np.sum((p - Y_train).dot(X_train[:,j])) \n",
        "      for j in range(k):\n",
        "        self.beta[j] = self.beta[j] - (alpha / m) * cost_gradient[j] \n",
        "    return self.beta\n",
        "\n",
        "  def predict(self, X_test):\n",
        "    X_test = np.insert(X_test, 0, values = 1, axis = 1)\n",
        "    z = X_test.dot(self.beta)\n",
        "    Y_predict = 1 / (1 + np.exp(-z)) \n",
        "    Y_label = np.zeros(len(Y_predict))\n",
        "    for i in range(len(Y_predict)):\n",
        "      if(Y_predict[i] >= 0.5): \n",
        "        Y_label[i] = 1\n",
        "    return Y_label"
      ],
      "metadata": {
        "id": "ROju8n60R43o"
      },
      "id": "ROju8n60R43o",
      "execution_count": null,
      "outputs": []
    },
    {
      "cell_type": "code",
      "execution_count": null,
      "id": "8bfd13ee",
      "metadata": {
        "id": "8bfd13ee",
        "colab": {
          "base_uri": "https://localhost:8080/"
        },
        "outputId": "52e44cac-e6e5-4b60-b395-1dde3dc7f52d"
      },
      "outputs": [
        {
          "output_type": "stream",
          "name": "stdout",
          "text": [
            "0.001\n"
          ]
        }
      ],
      "source": [
        "def find_accuracy(y, y_predicted):\n",
        "      tp,tn,fp,fn = 0,0,0,0\n",
        "      r=[]\n",
        "      for i in range(len(y)):\n",
        "          if (y[i] == 1 and y_predicted[i] == 1):\n",
        "              tp += 1\n",
        "          elif y[i] == 1 and y_predicted[i] == 0:\n",
        "              fn += 1\n",
        "          elif y[i] == 0 and y_predicted[i] == 1:\n",
        "              fp += 1\n",
        "          elif (y[i] == 0 and y_predicted[i] == 0):\n",
        "              tn += 1\n",
        "      accuracy = (tp + tn) / (tp + tn + fp + fn)\n",
        "      return round(accuracy, 2)\n",
        "\n",
        "X_train_LR, y_train_LR, X_test_LR, Y_test_LR = np.array(X_train), np.array(y_train), np.array(X_test), np.array(y_test)\n",
        "max_accuracy, best_alpha = 0, 0.01\n",
        "for alpha in np.arange(0.001, 1, 0.001):\n",
        "  clf = LogisticRegression()\n",
        "  clf2 = clf.fit(X_train_LR, y_train_LR, alpha)\n",
        "  predictions = clf.predict(X_test_LR)\n",
        "  accuracy = find_accuracy(Y_test_LR,predictions)\n",
        "  #print(alpha, \" - \", accuracy)\n",
        "  if accuracy > max_accuracy:\n",
        "    max_accuracy = accuracy\n",
        "    best_alpha = alpha\n",
        "print(best_alpha)\n",
        "\n",
        "X_train_LR, y_train_LR, X_test_LR, Y_test_LR = np.array(X_train), np.array(y_train), np.array(X_test), np.array(y_test)\n",
        "clf2 = clf.fit(X_train_LR, y_train_LR, best_alpha)\n",
        "predictions = clf.predict(X_test_LR)"
      ]
    },
    {
      "cell_type": "code",
      "execution_count": null,
      "id": "4402e53c",
      "metadata": {
        "id": "4402e53c",
        "colab": {
          "base_uri": "https://localhost:8080/"
        },
        "outputId": "acf8bd44-0bb8-4255-f302-89a35a5ef44f"
      },
      "outputs": [
        {
          "output_type": "display_data",
          "data": {
            "text/plain": [
              "<Figure size 432x288 with 2 Axes>"
            ],
            "image/png": "[encoded data removed]"
          },
          "metadata": {
            "needs_background": "light"
          }
        }
      ],
      "source": [
        "cm = confusion_matrix(Y_test_LR, predictions)\n",
        "disp = ConfusionMatrixDisplay(cm, display_labels = ['No Risk','High Risk']).plot()\n",
        "plt.show()"
      ]
    },
    {
      "cell_type": "code",
      "execution_count": null,
      "id": "31d98360",
      "metadata": {
        "id": "31d98360",
        "colab": {
          "base_uri": "https://localhost:8080/"
        },
        "outputId": "20c8651c-dd31-4b7b-c259-48d0656d4f29"
      },
      "outputs": [
        {
          "output_type": "stream",
          "name": "stdout",
          "text": [
            "              precision    recall  f1-score   support\n",
            "\n",
            "           0       0.91      0.83      0.87        35\n",
            "           1       0.86      0.93      0.89        41\n",
            "\n",
            "    accuracy                           0.88        76\n",
            "   macro avg       0.88      0.88      0.88        76\n",
            "weighted avg       0.88      0.88      0.88        76\n",
            "\n"
          ]
        }
      ],
      "source": [
        "print(classification_report(Y_test_LR,predictions))"
      ]
    },
    {
      "cell_type": "markdown",
      "id": "556864c4",
      "metadata": {
        "id": "556864c4"
      },
      "source": [
        "## KNN\n"
      ]
    },
    {
      "cell_type": "code",
      "source": [
        "def find_accuracy(y, y_predicted):\n",
        "      tp,tn,fp,fn = 0,0,0,0\n",
        "      r=[]\n",
        "      for i in range(len(y)):\n",
        "          if (y[i] == 1 and y_predicted[i] == 1):\n",
        "              tp += 1\n",
        "          elif y[i] == 1 and y_predicted[i] == 0:\n",
        "              fn += 1\n",
        "          elif y[i] == 0 and y_predicted[i] == 1:\n",
        "              fp += 1\n",
        "          elif (y[i] == 0 and y_predicted[i] == 0):\n",
        "              tn += 1\n",
        "      accuracy = (tp + tn) / (tp + tn + fp + fn)\n",
        "      return round(accuracy, 2)\n",
        "\n",
        "class K_Nearest_Neighbors_Classifier() :   \n",
        "    def __init__( self, K ) :      \n",
        "        self.K = K      \n",
        "\n",
        "    def fit( self, X_train, Y_train ) :\n",
        "        self.X_train = X_train\n",
        "        self.Y_train = Y_train\n",
        "        self.m, self.n = X_train.shape\n",
        "      \n",
        "    def predict( self, X_test ) : \n",
        "        self.X_test = X_test  \n",
        "        self.m_test, self.n = X_test.shape\n",
        "        Y_predict = np.zeros( self.m_test )  \n",
        "        for i in range( self.m_test ) :\n",
        "            x = self.X_test[i] \n",
        "            neighbors = np.zeros( self.K )\n",
        "            neighbors = self.find_neighbors( x )\n",
        "            Y_predict[i] = mode( neighbors )[0][0]    \n",
        "        return Y_predict\n",
        "            \n",
        "    def find_neighbors( self, x ) : \n",
        "        euclidean_distances = np.zeros( self.m )\n",
        "        for i in range( self.m ) :     \n",
        "            d = self.euclidean( x, self.X_train[i] ) \n",
        "            euclidean_distances[i] = d\n",
        "        ind = euclidean_distances.argsort()\n",
        "        Y_train_sorted = np.zeros( self.K )\n",
        "        self.Y_train=np.array(self.Y_train)\n",
        "        for i in range(self.K):\n",
        "            Y_train_sorted[i] = self.Y_train[ind[i]]\n",
        "        return Y_train_sorted\n",
        "              \n",
        "    def euclidean( self, x, x_train ) : \n",
        "        return np.sqrt( np.sum( np.square( x - x_train ) ) )\n",
        "  "
      ],
      "metadata": {
        "id": "EO8zHggc-w94"
      },
      "id": "EO8zHggc-w94",
      "execution_count": null,
      "outputs": []
    },
    {
      "cell_type": "code",
      "source": [
        "max_accuracy, best_k = 0, 1\n",
        "for k in range (1, len(X_train)):\n",
        "  myKNN = K_Nearest_Neighbors_Classifier(k)\n",
        "  myKNN.fit(X_train, y_train)\n",
        "  y_predict = myKNN.predict(X_test)\n",
        "  accuracy = find_accuracy(np.array(y_test),y_predict)\n",
        "  #print(k, \" - \", accuracy)\n",
        "  if accuracy > max_accuracy:\n",
        "    max_accuracy = accuracy\n",
        "    best_k = k\n",
        "print(best_k)"
      ],
      "metadata": {
        "colab": {
          "base_uri": "https://localhost:8080/"
        },
        "id": "ARZUaWlHW12N",
        "outputId": "7261d48b-b649-47ca-fe6e-1d74ab39ae8c"
      },
      "id": "ARZUaWlHW12N",
      "execution_count": null,
      "outputs": [
        {
          "output_type": "stream",
          "name": "stdout",
          "text": [
            "5\n"
          ]
        }
      ]
    },
    {
      "cell_type": "code",
      "source": [
        "myKNN = K_Nearest_Neighbors_Classifier(best_k)\n",
        "myKNN.fit(X_train, y_train)\n",
        "y_predict = myKNN.predict(X_test)"
      ],
      "metadata": {
        "id": "6EdbZGaHCEMc"
      },
      "id": "6EdbZGaHCEMc",
      "execution_count": null,
      "outputs": []
    },
    {
      "cell_type": "code",
      "execution_count": null,
      "id": "dfba2c74",
      "metadata": {
        "id": "dfba2c74",
        "outputId": "fe4d6c8b-0c39-40a1-c758-59f75c866df9",
        "colab": {
          "base_uri": "https://localhost:8080/"
        }
      },
      "outputs": [
        {
          "output_type": "display_data",
          "data": {
            "text/plain": [
              "<Figure size 432x288 with 2 Axes>"
            ],
            "image/png": "[encoded data removed]"
          },
          "metadata": {
            "needs_background": "light"
          }
        }
      ],
      "source": [
        "cm = confusion_matrix(y_predict, y_test)\n",
        "disp = ConfusionMatrixDisplay(cm, display_labels = ['No Risk','High Risk']).plot()\n",
        "plt.show()"
      ]
    },
    {
      "cell_type": "code",
      "execution_count": null,
      "id": "765cf525",
      "metadata": {
        "id": "765cf525",
        "outputId": "287c0d1f-01e6-46a2-9431-b1eb62aa574f",
        "colab": {
          "base_uri": "https://localhost:8080/"
        }
      },
      "outputs": [
        {
          "output_type": "stream",
          "name": "stdout",
          "text": [
            "              precision    recall  f1-score   support\n",
            "\n",
            "           0       0.89      0.91      0.90        35\n",
            "           1       0.93      0.90      0.91        41\n",
            "\n",
            "    accuracy                           0.91        76\n",
            "   macro avg       0.91      0.91      0.91        76\n",
            "weighted avg       0.91      0.91      0.91        76\n",
            "\n"
          ]
        }
      ],
      "source": [
        "print(classification_report(y_test,y_predict))"
      ]
    },
    {
      "cell_type": "markdown",
      "metadata": {
        "id": "RS681VRv1IXQ"
      },
      "source": [
        "## Naive Bayes Regression"
      ],
      "id": "RS681VRv1IXQ"
    },
    {
      "cell_type": "code",
      "source": [
        "import numpy as np\n",
        "class NaiveBayes_Gaussian:\n",
        "    def fit(self, X, y):\n",
        "        self.samples, self.features = X.shape\n",
        "        self.classes = len(np.unique(y))\n",
        "        self.mean = np.zeros((self.classes, self.features))\n",
        "        self.variance = np.zeros((self.classes, self.features))\n",
        "        self.priors = np.zeros(self.classes)\n",
        "        for c in range(self.classes):\n",
        "            X_c = X[y == c]\n",
        "            self.mean[c, :] = np.mean(X_c, axis=0)\n",
        "            self.variance[c, :] = np.var(X_c, axis=0)\n",
        "            self.priors[c] = X_c.shape[0] / self.samples\n",
        "\n",
        "    def predict(self, X):\n",
        "        y_hat = [self.calc_prob(x) for x in X]\n",
        "        return np.array(y_hat)\n",
        "\n",
        "    def calc_prob(self, x):\n",
        "        posteriors_list = list()\n",
        "        for c in range(self.classes):\n",
        "            mean = self.mean[c]\n",
        "            variance = self.variance[c]\n",
        "            prior = np.log(self.priors[c])\n",
        "            posterior = np.sum(np.log(self.gaussian(x, mean, variance)))\n",
        "            posterior = prior + posterior\n",
        "            posteriors_list.append(posterior)\n",
        "        return np.argmax(posteriors_list)\n",
        "\n",
        "    def gaussian(self, x, mean, var):\n",
        "        const = 1 / np.sqrt(var * 2 * np.pi)\n",
        "        prob = np.exp(-0.5 * ((x - mean) ** 2 / var))\n",
        "        return const * prob"
      ],
      "metadata": {
        "id": "WaHn8dnoTxaY"
      },
      "id": "WaHn8dnoTxaY",
      "execution_count": null,
      "outputs": []
    },
    {
      "cell_type": "code",
      "source": [
        "nb = NaiveBayes_Gaussian()\n",
        "nb.fit(X_train, y_train)\n",
        "y_predict3 = nb.predict(X_test)"
      ],
      "metadata": {
        "id": "dOZdB-iUWYiO"
      },
      "id": "dOZdB-iUWYiO",
      "execution_count": null,
      "outputs": []
    },
    {
      "cell_type": "code",
      "source": [
        "cm = confusion_matrix(y_test, y_predict3)\n",
        "disp = ConfusionMatrixDisplay(cm, display_labels = ['No Risk','High Risk']).plot()\n",
        "plt.show()"
      ],
      "metadata": {
        "colab": {
          "base_uri": "https://localhost:8080/"
        },
        "id": "97OcYuQBWYx9",
        "outputId": "694a2a29-3e72-4177-daaf-ac2ffb3d7780"
      },
      "id": "97OcYuQBWYx9",
      "execution_count": null,
      "outputs": [
        {
          "output_type": "display_data",
          "data": {
            "text/plain": [
              "<Figure size 432x288 with 2 Axes>"
            ],
            "image/png": "[encoded data removed]"
          },
          "metadata": {
            "needs_background": "light"
          }
        }
      ]
    },
    {
      "cell_type": "code",
      "source": [
        "print(classification_report(y_test,y_predict3))"
      ],
      "metadata": {
        "colab": {
          "base_uri": "https://localhost:8080/"
        },
        "id": "lOmsNNtcWd1N",
        "outputId": "d1873880-f30d-407d-a1d8-c9ce5b0df40c"
      },
      "id": "lOmsNNtcWd1N",
      "execution_count": null,
      "outputs": [
        {
          "output_type": "stream",
          "name": "stdout",
          "text": [
            "              precision    recall  f1-score   support\n",
            "\n",
            "           0       0.86      0.89      0.87        35\n",
            "           1       0.90      0.88      0.89        41\n",
            "\n",
            "    accuracy                           0.88        76\n",
            "   macro avg       0.88      0.88      0.88        76\n",
            "weighted avg       0.88      0.88      0.88        76\n",
            "\n"
          ]
        }
      ]
    },
    {
      "cell_type": "markdown",
      "source": [
        "<H1> Ensemble of KNN, Logistic Regression & Naive Bayes </H1>"
      ],
      "metadata": {
        "id": "AlESxfr47DW8"
      },
      "id": "AlESxfr47DW8"
    },
    {
      "cell_type": "code",
      "source": [
        "result = []\n",
        "for i in range(len(y_test)):\n",
        "  if y_predict3[i] + predictions[i] + y_predict[i] >= 2:\n",
        "    result.append(1)\n",
        "  else:\n",
        "    result.append(0)      \n",
        "print(confusion_matrix(y_test, result))\n",
        "print(classification_report(y_test,result)) "
      ],
      "metadata": {
        "id": "XS5-UMSg73D9",
        "colab": {
          "base_uri": "https://localhost:8080/"
        },
        "outputId": "47bb2920-8ea8-4e62-f302-f674a680e1c4"
      },
      "id": "XS5-UMSg73D9",
      "execution_count": null,
      "outputs": [
        {
          "output_type": "stream",
          "name": "stdout",
          "text": [
            "[[31  4]\n",
            " [ 3 38]]\n",
            "              precision    recall  f1-score   support\n",
            "\n",
            "           0       0.91      0.89      0.90        35\n",
            "           1       0.90      0.93      0.92        41\n",
            "\n",
            "    accuracy                           0.91        76\n",
            "   macro avg       0.91      0.91      0.91        76\n",
            "weighted avg       0.91      0.91      0.91        76\n",
            "\n"
          ]
        }
      ]
    }
  ],
  "metadata": {
    "kernelspec": {
      "display_name": "Python 3 (ipykernel)",
      "language": "python",
      "name": "python3"
    },
    "language_info": {
      "codemirror_mode": {
        "name": "ipython",
        "version": 3
      },
      "file_extension": ".py",
      "mimetype": "text/x-python",
      "name": "python",
      "nbconvert_exporter": "python",
      "pygments_lexer": "ipython3",
      "version": "3.9.7"
    },
    "colab": {
      "provenance": [],
      "include_colab_link": true
    }
  },
  "nbformat": 4,
  "nbformat_minor": 5
}
